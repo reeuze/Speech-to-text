{
 "cells": [
  {
   "cell_type": "markdown",
   "metadata": {},
   "source": [
    "COMPARE SIMILARITY SPEECH AND TEXT\n",
    "\n",
    "This program is intended to compare the similarity between the recorded voice data and the expected text, then output it in the form of a percentage matrix"
   ]
  },
  {
   "cell_type": "markdown",
   "metadata": {},
   "source": [
    "import package"
   ]
  },
  {
   "cell_type": "code",
   "execution_count": 1,
   "metadata": {},
   "outputs": [],
   "source": [
    "import speech_recognition as sr\n",
    "from difflib import SequenceMatcher"
   ]
  },
  {
   "cell_type": "markdown",
   "metadata": {},
   "source": [
    "Calculate similarity percentage"
   ]
  },
  {
   "cell_type": "code",
   "execution_count": 2,
   "metadata": {},
   "outputs": [],
   "source": [
    "def similarity_ratio(str1, str2):\n",
    "    return SequenceMatcher(None, str1, str2).ratio()"
   ]
  },
  {
   "cell_type": "markdown",
   "metadata": {},
   "source": [
    "Recognize speech from a WAV file"
   ]
  },
  {
   "cell_type": "code",
   "execution_count": 3,
   "metadata": {},
   "outputs": [],
   "source": [
    "def audio_to_text(audio_file):\n",
    "    recognizer = sr.Recognizer()\n",
    "    with sr.AudioFile(audio_file) as source:\n",
    "        audio_data = recognizer.record(source)\n",
    "        try:\n",
    "            text = recognizer.recognize_google(audio_data)\n",
    "            return text\n",
    "        except sr.UnknownValueError:\n",
    "            return \"\"\n",
    "        except sr.RequestError:\n",
    "            return \"\""
   ]
  },
  {
   "cell_type": "markdown",
   "metadata": {},
   "source": [
    "Calculate similarity word each data"
   ]
  },
  {
   "cell_type": "code",
   "execution_count": 17,
   "metadata": {},
   "outputs": [],
   "source": [
    "def compare_speech_to_text(audio_files, given_sentence):\n",
    "    given_words = given_sentence.split()\n",
    "    comparison_results = []\n",
    "\n",
    "    for audio_file in audio_files:\n",
    "        recognized_text = audio_to_text(audio_file)\n",
    "        recognized_words = recognized_text.split()\n",
    "        similarity_list = []\n",
    "\n",
    "        for word in recognized_words:\n",
    "            similarities = [round(similarity_ratio(word, given_word), 2) for given_word in given_words]\n",
    "            similarity_list.append(max(similarities))\n",
    "        \n",
    "        comparison_results.append(similarity_list)\n",
    "    \n",
    "    return comparison_results"
   ]
  },
  {
   "cell_type": "markdown",
   "metadata": {},
   "source": [
    "Calculate the results"
   ]
  },
  {
   "cell_type": "code",
   "execution_count": 18,
   "metadata": {},
   "outputs": [
    {
     "name": "stdout",
     "output_type": "stream",
     "text": [
      "[[0.92, 1.0, 1.0, 1.0, 1.0, 1.0, 1.0, 0.93, 1.0, 0.4, 0.33, 0.9, 1.0, 1.0, 1.0, 1.0, 0.93], [0.92, 1.0, 1.0, 1.0, 1.0, 1.0, 1.0, 0.93, 1.0, 0.36, 1.0, 0.73, 1.0, 1.0, 1.0, 0.93], [0.92, 1.0, 1.0, 1.0, 1.0, 1.0, 1.0, 0.93, 1.0, 1.0, 1.0, 0.9, 0.36, 1.0, 1.0, 1.0, 0.93], [0.92, 1.0, 1.0, 1.0, 1.0, 1.0, 1.0, 0.93, 1.0, 1.0, 1.0, 0.9, 1.0, 1.0, 1.0, 1.0, 0.93], [0.92, 1.0, 1.0, 1.0, 1.0, 1.0, 1.0, 0.93, 1.0, 1.0, 0.5, 0.9, 1.0, 1.0, 1.0, 1.0, 0.93], [0.92, 1.0, 1.0, 1.0, 1.0, 1.0, 1.0, 0.93, 1.0, 1.0, 1.0, 0.9, 1.0, 1.0, 1.0, 1.0, 0.93], [0.92, 1.0, 1.0, 1.0, 1.0, 1.0, 1.0, 0.93, 1.0, 1.0, 1.0, 0.9, 1.0, 1.0, 1.0, 1.0, 0.93], [0.92, 1.0, 1.0, 1.0, 1.0, 1.0, 1.0, 0.93, 1.0, 1.0, 0.4, 0.63, 0.57, 1.0, 1.0, 1.0, 0.93], [0.92, 1.0, 1.0, 1.0, 1.0, 1.0, 1.0, 0.93, 1.0, 1.0, 1.0, 0.9, 1.0, 1.0, 1.0, 1.0, 0.93], [0.92, 1.0, 1.0, 1.0, 1.0, 1.0, 1.0, 0.93, 1.0, 1.0, 1.0, 0.9, 1.0, 1.0, 1.0, 1.0, 0.93], [0.92, 1.0, 1.0, 1.0, 1.0, 1.0, 1.0, 0.93, 1.0, 1.0, 0.5, 0.9, 1.0, 1.0, 1.0, 1.0, 0.93], [0.92, 1.0, 1.0, 1.0, 1.0, 1.0, 1.0, 0.93, 1.0, 1.0, 0.4, 0.75, 0.44, 0.9, 0.5, 1.0, 1.0, 1.0, 0.67], [0.92, 1.0, 1.0, 1.0, 1.0, 1.0, 1.0, 0.93, 1.0, 1.0, 0.75, 0.9, 1.0, 1.0, 1.0, 1.0, 0.93]]\n"
     ]
    }
   ],
   "source": [
    "audio_files = [f\"E:\\Perkuliahan\\Semester 4\\Pembelajaran Mesin\\Tugas Membuat Makalah\\Speech-to-text\\Data Suara kalimat 1 wav\\Data {i} kalimat 1.wav\" for i in range(1, 14)]  # Contoh nama file: data1.wav, data2.wav, ..., data13.wav\n",
    "given_sentence = \"London, the capital city of the United Kingdom, is a vibrant metropolis rich in history and culture.\"\n",
    "results = compare_speech_to_text(audio_files, given_sentence)\n",
    "print(results)"
   ]
  },
  {
   "cell_type": "markdown",
   "metadata": {},
   "source": [
    "Print the result in matrix 2 dimension"
   ]
  },
  {
   "cell_type": "code",
   "execution_count": 21,
   "metadata": {},
   "outputs": [
    {
     "name": "stdout",
     "output_type": "stream",
     "text": [
      "[0.92, 1.0, 1.0, 1.0, 1.0, 1.0, 1.0, 0.93, 1.0, 0.4, 0.33, 0.9, 1.0, 1.0, 1.0, 1.0, 0.93]\n",
      "[0.92, 1.0, 1.0, 1.0, 1.0, 1.0, 1.0, 0.93, 1.0, 0.36, 1.0, 0.73, 1.0, 1.0, 1.0, 0.93]\n",
      "[0.92, 1.0, 1.0, 1.0, 1.0, 1.0, 1.0, 0.93, 1.0, 1.0, 1.0, 0.9, 0.36, 1.0, 1.0, 1.0, 0.93]\n",
      "[0.92, 1.0, 1.0, 1.0, 1.0, 1.0, 1.0, 0.93, 1.0, 1.0, 1.0, 0.9, 1.0, 1.0, 1.0, 1.0, 0.93]\n",
      "[0.92, 1.0, 1.0, 1.0, 1.0, 1.0, 1.0, 0.93, 1.0, 1.0, 0.5, 0.9, 1.0, 1.0, 1.0, 1.0, 0.93]\n",
      "[0.92, 1.0, 1.0, 1.0, 1.0, 1.0, 1.0, 0.93, 1.0, 1.0, 1.0, 0.9, 1.0, 1.0, 1.0, 1.0, 0.93]\n",
      "[0.92, 1.0, 1.0, 1.0, 1.0, 1.0, 1.0, 0.93, 1.0, 1.0, 1.0, 0.9, 1.0, 1.0, 1.0, 1.0, 0.93]\n",
      "[0.92, 1.0, 1.0, 1.0, 1.0, 1.0, 1.0, 0.93, 1.0, 1.0, 0.4, 0.63, 0.57, 1.0, 1.0, 1.0, 0.93]\n",
      "[0.92, 1.0, 1.0, 1.0, 1.0, 1.0, 1.0, 0.93, 1.0, 1.0, 1.0, 0.9, 1.0, 1.0, 1.0, 1.0, 0.93]\n",
      "[0.92, 1.0, 1.0, 1.0, 1.0, 1.0, 1.0, 0.93, 1.0, 1.0, 1.0, 0.9, 1.0, 1.0, 1.0, 1.0, 0.93]\n",
      "[0.92, 1.0, 1.0, 1.0, 1.0, 1.0, 1.0, 0.93, 1.0, 1.0, 0.5, 0.9, 1.0, 1.0, 1.0, 1.0, 0.93]\n",
      "[0.92, 1.0, 1.0, 1.0, 1.0, 1.0, 1.0, 0.93, 1.0, 1.0, 0.4, 0.75, 0.44, 0.9, 0.5, 1.0, 1.0, 1.0, 0.67]\n",
      "[0.92, 1.0, 1.0, 1.0, 1.0, 1.0, 1.0, 0.93, 1.0, 1.0, 0.75, 0.9, 1.0, 1.0, 1.0, 1.0, 0.93]\n"
     ]
    }
   ],
   "source": [
    "for result in results:\n",
    "    print(result)"
   ]
  }
 ],
 "metadata": {
  "kernelspec": {
   "display_name": "Python 3",
   "language": "python",
   "name": "python3"
  },
  "language_info": {
   "codemirror_mode": {
    "name": "ipython",
    "version": 3
   },
   "file_extension": ".py",
   "mimetype": "text/x-python",
   "name": "python",
   "nbconvert_exporter": "python",
   "pygments_lexer": "ipython3",
   "version": "3.11.5"
  }
 },
 "nbformat": 4,
 "nbformat_minor": 2
}
