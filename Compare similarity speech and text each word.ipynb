{
 "cells": [
  {
   "cell_type": "markdown",
   "metadata": {},
   "source": [
    "COMPARE SIMILARITY SPEECH AND TEXT\n",
    "\n",
    "This program is intended to compare the similarity between the recorded voice data and the expected text, then output it in the form of a percentage matrix"
   ]
  },
  {
   "cell_type": "markdown",
   "metadata": {},
   "source": [
    "Import Package"
   ]
  },
  {
   "cell_type": "code",
   "execution_count": 1,
   "metadata": {},
   "outputs": [],
   "source": [
    "import speech_recognition as sr\n",
    "from difflib import SequenceMatcher"
   ]
  },
  {
   "cell_type": "markdown",
   "metadata": {},
   "source": [
    "List data"
   ]
  },
  {
   "cell_type": "code",
   "execution_count": 6,
   "metadata": {},
   "outputs": [],
   "source": [
    "data_similarity = []"
   ]
  },
  {
   "cell_type": "markdown",
   "metadata": {},
   "source": [
    "Recognize speech from a WAV file"
   ]
  },
  {
   "cell_type": "code",
   "execution_count": 2,
   "metadata": {},
   "outputs": [],
   "source": [
    "def recognize_speech_from_wav(wav_file_path):\n",
    "    recognizer = sr.Recognizer()\n",
    "    with sr.AudioFile(wav_file_path) as source:\n",
    "        audio = recognizer.record(source)\n",
    "        try:\n",
    "            return recognizer.recognize_google(audio)\n",
    "        except sr.UnknownValueError:\n",
    "            return \"\"\n",
    "        except sr.RequestError as e:\n",
    "            print(f\"Could not request results from Google Speech Recognition service; {e}\")\n",
    "            return \"\""
   ]
  },
  {
   "cell_type": "markdown",
   "metadata": {},
   "source": [
    "Calculate similarity percentage"
   ]
  },
  {
   "cell_type": "code",
   "execution_count": 3,
   "metadata": {},
   "outputs": [],
   "source": [
    "def calculate_similarity(expected_text, recognized_text):\n",
    "    return SequenceMatcher(None, expected_text, recognized_text).ratio() * 100"
   ]
  },
  {
   "cell_type": "markdown",
   "metadata": {},
   "source": [
    "Calculate similarity each data (sentence)"
   ]
  },
  {
   "cell_type": "code",
   "execution_count": 7,
   "metadata": {},
   "outputs": [],
   "source": [
    "for i in range(1, 14):\n",
    "    # compare path\n",
    "    wav_file_path = f\"E:\\Perkuliahan\\Semester 4\\Pembelajaran Mesin\\Tugas Membuat Makalah\\Speech-to-text\\Data Suara kalimat 1 wav\\Data {i} kalimat 1.wav\"  # Replace with the path to your WAV file\n",
    "    expected_text = \"London, the capital city of the United Kingdom, is a vibrant metropolis rich in history and culture.\"\n",
    "\n",
    "    # Recognize speech from WAV file\n",
    "    recognized_text = recognize_speech_from_wav(wav_file_path)\n",
    "\n",
    "    # Calculate similarity percentage\n",
    "    similarity_percentage = calculate_similarity(expected_text, recognized_text)\n",
    "\n",
    "    # Add similarity percentage to data similarity\n",
    "    data_similarity.append(round(similarity_percentage, 2))"
   ]
  },
  {
   "cell_type": "markdown",
   "metadata": {},
   "source": [
    "Print the result"
   ]
  },
  {
   "cell_type": "code",
   "execution_count": 10,
   "metadata": {},
   "outputs": [
    {
     "name": "stdout",
     "output_type": "stream",
     "text": [
      "presentation of the similarity of each sentence :\n",
      " >> [90.82, 87.5, 93.94, 97.46, 94.36, 97.46, 97.46, 88.08, 97.46, 97.46, 94.36, 87.13, 95.38]\n"
     ]
    }
   ],
   "source": [
    "print(\"presentation of the similarity of each sentence :\\n >>\", data_similarity)"
   ]
  },
  {
   "cell_type": "markdown",
   "metadata": {},
   "source": [
    "Calculate similarity each word"
   ]
  },
  {
   "cell_type": "code",
   "execution_count": null,
   "metadata": {},
   "outputs": [],
   "source": []
  }
 ],
 "metadata": {
  "kernelspec": {
   "display_name": "Python 3",
   "language": "python",
   "name": "python3"
  },
  "language_info": {
   "codemirror_mode": {
    "name": "ipython",
    "version": 3
   },
   "file_extension": ".py",
   "mimetype": "text/x-python",
   "name": "python",
   "nbconvert_exporter": "python",
   "pygments_lexer": "ipython3",
   "version": "3.11.5"
  }
 },
 "nbformat": 4,
 "nbformat_minor": 2
}
