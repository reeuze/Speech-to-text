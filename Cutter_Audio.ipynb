{
 "cells": [
  {
   "cell_type": "code",
   "execution_count": 4,
   "metadata": {},
   "outputs": [],
   "source": [
    "import speech_recognition as sr\n",
    "from pydub import AudioSegment"
   ]
  },
  {
   "cell_type": "code",
   "execution_count": 12,
   "metadata": {},
   "outputs": [],
   "source": [
    "def transcribe_audio(file_path):\n",
    "    recognizer = sr.Recognizer()\n",
    "    audio_file = sr.AudioFile(file_path)\n",
    "    with audio_file as source:\n",
    "        audio_data = recognizer.record(source)\n",
    "    return recognizer.recognize_google(audio_data, show_all=True)"
   ]
  },
  {
   "cell_type": "code",
   "execution_count": 13,
   "metadata": {},
   "outputs": [],
   "source": [
    "def find_word_timestamps(transcript, target_phrase):\n",
    "    word_timestamps = []\n",
    "    for result in transcript[\"results\"]:\n",
    "        for alternative in result[\"alternatives\"]:\n",
    "            words_info = alternative.get(\"words\", [])\n",
    "            for word_info in words_info:\n",
    "                word = word_info[\"word\"]\n",
    "                if word.lower() in target_phrase.lower():\n",
    "                    start_time = word_info[\"startTime\"]\n",
    "                    end_time = word_info[\"endTime\"]\n",
    "                    start_offset = max(0, int(start_time[:-1]) / 1000 - 0.07)  # Convert to seconds and add offset\n",
    "                    end_offset = int(end_time[:-1]) / 1000 + 0.02  # Convert to seconds and add offset\n",
    "                    word_timestamps.append((start_offset, end_offset))\n",
    "    return word_timestamps"
   ]
  },
  {
   "cell_type": "code",
   "execution_count": 14,
   "metadata": {},
   "outputs": [],
   "source": [
    "def split_audio(file_path, timestamps, output_paths):\n",
    "    audio = AudioSegment.from_wav(file_path)\n",
    "    for (start, end), output_path in zip(timestamps, output_paths):\n",
    "        extract = audio[start * 1000:end * 1000]  # convert to milliseconds\n",
    "        extract.export(output_path, format=\"wav\")\n"
   ]
  },
  {
   "cell_type": "code",
   "execution_count": 17,
   "metadata": {},
   "outputs": [],
   "source": [
    "def main():\n",
    "    input_audio_path = \"E:\\\\voiceData\\Data-2.wav\"  # path to your input wav file\n",
    "    phrases_to_find = [\n",
    "        \"London, the capital city of the United\",\n",
    "        \"the City of London is the historic\",\n",
    "        \"of London. The city's boundaries have remained\",\n",
    "        \"daytime workforce, the City is always alive\"\n",
    "    ]\n",
    "    output_files = [\n",
    "        \"Suara-1.wav\",\n",
    "        \"Suara-2.wav\",\n",
    "        \"Suara-3.wav\",\n",
    "        \"Suara-4.wav\"\n",
    "    ]\n",
    "\n",
    "    transcript = transcribe_audio(input_audio_path)\n",
    "    if \"results\" not in transcript:\n",
    "        print(\"Transcription did not return expected results format.\")\n",
    "        return\n",
    "    \n",
    "    timestamps = []\n",
    "    for phrase in phrases_to_find:\n",
    "        phrase_timestamps = find_word_timestamps(transcript, phrase)\n",
    "        if phrase_timestamps:\n",
    "            timestamps.append(phrase_timestamps[0])  # Assume we only need the first occurrence\n",
    "        else:\n",
    "            print(f\"Phrase '{phrase}' not found in the audio.\")\n",
    "\n",
    "    if len(timestamps) == len(output_files):\n",
    "        split_audio(input_audio_path, timestamps, output_files)\n",
    "    else:\n",
    "        print(\"Mismatch between number of found phrases and output files.\")"
   ]
  },
  {
   "cell_type": "code",
   "execution_count": 18,
   "metadata": {},
   "outputs": [
    {
     "name": "stdout",
     "output_type": "stream",
     "text": [
      "Transcription did not return expected results format.\n"
     ]
    }
   ],
   "source": [
    "if __name__ == \"__main__\":\n",
    "    main()"
   ]
  }
 ],
 "metadata": {
  "kernelspec": {
   "display_name": "Python 3",
   "language": "python",
   "name": "python3"
  },
  "language_info": {
   "codemirror_mode": {
    "name": "ipython",
    "version": 3
   },
   "file_extension": ".py",
   "mimetype": "text/x-python",
   "name": "python",
   "nbconvert_exporter": "python",
   "pygments_lexer": "ipython3",
   "version": "3.11.5"
  }
 },
 "nbformat": 4,
 "nbformat_minor": 2
}
