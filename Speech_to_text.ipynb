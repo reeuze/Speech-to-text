{
 "cells": [
  {
   "cell_type": "markdown",
   "metadata": {},
   "source": [
    "Build in 15 June 2024\n",
    "by : Muhamad Risqi Aditiya\n",
    "\n",
    "Speech-to-text"
   ]
  },
  {
   "cell_type": "code",
   "execution_count": 1,
   "metadata": {},
   "outputs": [],
   "source": [
    "import speech_recognition as sr"
   ]
  },
  {
   "cell_type": "code",
   "execution_count": 4,
   "metadata": {},
   "outputs": [
    {
     "name": "stdout",
     "output_type": "stream",
     "text": [
      "London the capital city of the United Kingdom is five per Metropolis rich in history and culture known as the square mile of the city of London is the history called where the Romans first established the London name today it's a major business and financial center House of the bank of England the real exchange and the London Stock Exchange despite in the Modern Skyscrapers like the captain and the walkie-talkie London retains its historical charm Weatherly unchanged since the middle of all times making it unique blend of ancient and the Contemporary what is smaller than population\n"
     ]
    }
   ],
   "source": [
    "r = sr.Recognizer()\n",
    "audio_file = sr.AudioFile('E:\\Perkuliahan\\Semester 4\\Pembelajaran Mesin\\Tugas Membuat Makalah\\Speech-to-text\\Data Suara\\Data 1.wav')\n",
    "with audio_file as source:\n",
    "    audio = r.record(source)\n",
    "    text = r.recognize_google(audio)\n",
    "print(text)"
   ]
  }
 ],
 "metadata": {
  "kernelspec": {
   "display_name": "Python 3",
   "language": "python",
   "name": "python3"
  },
  "language_info": {
   "codemirror_mode": {
    "name": "ipython",
    "version": 3
   },
   "file_extension": ".py",
   "mimetype": "text/x-python",
   "name": "python",
   "nbconvert_exporter": "python",
   "pygments_lexer": "ipython3",
   "version": "3.11.5"
  }
 },
 "nbformat": 4,
 "nbformat_minor": 2
}
